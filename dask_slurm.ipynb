{
 "cells": [
  {
   "cell_type": "markdown",
   "metadata": {},
   "source": [
    "# Dask - Using Maxwell via dask_jobqueue "
   ]
  },
  {
   "cell_type": "markdown",
   "metadata": {},
   "source": [
    "### Utility function"
   ]
  },
  {
   "cell_type": "code",
   "execution_count": null,
   "metadata": {},
   "outputs": [],
   "source": [
    "def print_squeue(username='cpassow'):\n",
    "    import subprocess\n",
    "    process = subprocess.Popen(\"squeue -u \"+ username, stdout=subprocess.PIPE, shell=True)\n",
    "    (output, err) = process.communicate()\n",
    "    print('Total Jobs:', str(output).count(username))\n",
    "    print('Running Jobs:', str(output).count(' R '))\n",
    "    print('Pending Jobs:', str(output).count(' PD '))\n",
    "    \n",
    "print_squeue()"
   ]
  },
  {
   "cell_type": "markdown",
   "metadata": {},
   "source": [
    "## Cluster setup"
   ]
  },
  {
   "cell_type": "code",
   "execution_count": null,
   "metadata": {},
   "outputs": [],
   "source": [
    "from dask_jobqueue import SLURMCluster\n",
    "from distributed import Client"
   ]
  },
  {
   "cell_type": "code",
   "execution_count": null,
   "metadata": {},
   "outputs": [],
   "source": [
    "cluster = SLURMCluster(queue = 'ps', cores =30 , processes = 1, memory = '200GB', walltime = '00:30:00',\n",
    "                      local_directory = './slurm_out', log_directory = './slurm_logs')"
   ]
  },
  {
   "cell_type": "code",
   "execution_count": null,
   "metadata": {},
   "outputs": [],
   "source": [
    "cluster.scale(5)"
   ]
  },
  {
   "cell_type": "code",
   "execution_count": null,
   "metadata": {},
   "outputs": [],
   "source": [
    "print_squeue()"
   ]
  },
  {
   "cell_type": "code",
   "execution_count": null,
   "metadata": {},
   "outputs": [],
   "source": [
    "client = Client(cluster)"
   ]
  },
  {
   "cell_type": "code",
   "execution_count": null,
   "metadata": {},
   "outputs": [],
   "source": [
    "client"
   ]
  },
  {
   "cell_type": "markdown",
   "metadata": {},
   "source": [
    "## Problem: timing jumps in FL1 pp-laser\n",
    "\n",
    "During a recent beamtime we observed the pp-laser jumps in timing and decided to record this behavior via a FLASH GHz ADC.\n",
    "\n",
    "![title](jddd_adc.png)"
   ]
  },
  {
   "cell_type": "markdown",
   "metadata": {},
   "source": [
    "### Imports "
   ]
  },
  {
   "cell_type": "code",
   "execution_count": null,
   "metadata": {},
   "outputs": [],
   "source": [
    "import numpy as np\n",
    "import glob\n",
    "\n",
    "from beamtimedaqaccess import BeamtimeDaqAccess "
   ]
  },
  {
   "cell_type": "markdown",
   "metadata": {},
   "source": [
    "### HDF files of 1 FEL block "
   ]
  },
  {
   "cell_type": "code",
   "execution_count": null,
   "metadata": {},
   "outputs": [],
   "source": [
    "root_dir = '/asap3/flash/gpfs/bl1/2019/data/11006508/raw/hdf/online-1/'\n",
    "trace_addr = '/FL1/Experiment/BL1/ADQ412 GHz ADC/CH01/TD'\n",
    "\n",
    "daq = BeamtimeDaqAccess.create(root_dir)"
   ]
  },
  {
   "cell_type": "markdown",
   "metadata": {},
   "source": [
    "### Analysis function"
   ]
  },
  {
   "cell_type": "code",
   "execution_count": null,
   "metadata": {},
   "outputs": [],
   "source": [
    "def get_rising_edges(run_number):\n",
    "    trace = np.asarray(daq.allValuesOfRun(trace_addr, run_number))\n",
    "    rising_edges = [np.argmax(trace[0][index] > 100) for index in range(len(trace[0])) if np.argmax(trace[0][index]) > 0 ]\n",
    "    unique, counts = np.unique(rising_edges, return_counts=True)    \n",
    "    edges = dict(zip(unique, counts))\n",
    "    return edges\n",
    "\n",
    "def counting(edges):\n",
    "    late = np.sum((np.asarray([v for k,v in edges.items() if k >= 2100])))\n",
    "    early = np.sum((np.asarray([v for k,v in edges.items() if k > 10 and k < 2100])))\n",
    "    if early > 0 and late > 0:\n",
    "        ratio = early / (early + late)\n",
    "        ratio = float(\"{0:.2f}\".format(ratio))\n",
    "    else:\n",
    "        ratio = np.nan\n",
    "    return [late,early, ratio]"
   ]
  },
  {
   "cell_type": "markdown",
   "metadata": {},
   "source": [
    "### Check # of DAQ runs in FEL block"
   ]
  },
  {
   "cell_type": "code",
   "execution_count": null,
   "metadata": {},
   "outputs": [],
   "source": [
    "runs = [int(f[93:98]) for f in glob.glob(root_dir + '/fl1user1/*_file1_*')]\n",
    "runs.sort()\n",
    "print('total # of DAQ runs:',len(runs))"
   ]
  },
  {
   "cell_type": "code",
   "execution_count": null,
   "metadata": {},
   "outputs": [],
   "source": [
    "runs = runs[0:3]"
   ]
  },
  {
   "cell_type": "code",
   "execution_count": null,
   "metadata": {},
   "outputs": [],
   "source": [
    "import dask \n",
    "\n",
    "number_of_edges_per_run = []\n",
    "for run in runs:\n",
    "    number_of_edges = dask.delayed(get_rising_edges)(run)\n",
    "    number_of_edges_per_run.append(number_of_edges)"
   ]
  },
  {
   "cell_type": "code",
   "execution_count": null,
   "metadata": {},
   "outputs": [],
   "source": [
    "%%time\n",
    "\n",
    "dict_early_late = dask.compute(*number_of_edges_per_run)"
   ]
  },
  {
   "cell_type": "markdown",
   "metadata": {},
   "source": [
    "## Statistic for eLog"
   ]
  },
  {
   "cell_type": "code",
   "execution_count": null,
   "metadata": {
    "scrolled": false
   },
   "outputs": [],
   "source": [
    "results = [counting(dict_early_late[index]) for index in range(len(dict_early_late))]\n",
    "\n",
    "for i in range(len(runs)):\n",
    "    if len(dict_early_late[i]) > 1:\n",
    "        print('Run:',runs[i],'Time Bins',dict_early_late[i])\n",
    "    else:\n",
    "        print('Run:',runs[i],'no Laser')\n",
    "        \n",
    "print('\\nRUN | late | early | ratio')\n",
    "for i in range(len(results)):\n",
    "    print(runs[i], results[i])"
   ]
  },
  {
   "cell_type": "markdown",
   "metadata": {},
   "source": [
    "## Cluster termination"
   ]
  },
  {
   "cell_type": "code",
   "execution_count": null,
   "metadata": {
    "scrolled": true
   },
   "outputs": [],
   "source": [
    "cluster.close()\n",
    "client.close()"
   ]
  },
  {
   "cell_type": "code",
   "execution_count": null,
   "metadata": {},
   "outputs": [],
   "source": [
    "print_squeue()"
   ]
  },
  {
   "cell_type": "code",
   "execution_count": null,
   "metadata": {},
   "outputs": [],
   "source": []
  }
 ],
 "metadata": {
  "kernelspec": {
   "display_name": "Python [conda env:flash]",
   "language": "python",
   "name": "conda-env-flash-py"
  },
  "language_info": {
   "codemirror_mode": {
    "name": "ipython",
    "version": 3
   },
   "file_extension": ".py",
   "mimetype": "text/x-python",
   "name": "python",
   "nbconvert_exporter": "python",
   "pygments_lexer": "ipython3",
   "version": "3.6.8"
  }
 },
 "nbformat": 4,
 "nbformat_minor": 2
}
